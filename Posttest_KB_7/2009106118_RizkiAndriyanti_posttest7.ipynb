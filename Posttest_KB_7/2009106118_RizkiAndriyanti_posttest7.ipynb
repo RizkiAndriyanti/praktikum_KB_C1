{
 "cells": [
  {
   "cell_type": "markdown",
   "id": "a92d20e6-2098-48eb-9b1f-58e25fc842b7",
   "metadata": {},
   "source": [
    "## Import Library"
   ]
  },
  {
   "cell_type": "code",
   "execution_count": 1,
   "id": "d37f4334-2ce0-4b4d-a770-fcf522945b69",
   "metadata": {},
   "outputs": [],
   "source": [
    "import tensorflow as tf\n",
    "import numpy as np"
   ]
  },
  {
   "cell_type": "markdown",
   "id": "7ad29941-dfb7-4561-808f-57aad269d3ea",
   "metadata": {},
   "source": [
    "### Buatlah sebuah tensor dengan shape(5,5) dengan nilai random yang disimpan dalam variable random_tensor\n",
    "### membuat tensor menggunakan tf.random.normal"
   ]
  },
  {
   "cell_type": "code",
   "execution_count": 21,
   "id": "5fdfae0d-ac1d-4f45-b125-4f33650ba5d0",
   "metadata": {},
   "outputs": [
    {
     "data": {
      "text/plain": [
       "array([[-0.32386488,  0.99133694,  0.14024267,  1.2573972 ,  0.09992335],\n",
       "       [ 0.18983224, -0.28711194, -1.7413595 ,  1.8718754 , -2.0104504 ],\n",
       "       [-1.4673029 , -1.2721989 , -0.7803738 ,  0.94073033, -0.06164822],\n",
       "       [-2.0842526 ,  0.61423135, -1.451092  , -0.88693523, -0.96740866],\n",
       "       [ 0.94831836, -0.6974499 ,  0.5391437 , -0.52970064, -2.0105364 ]],\n",
       "      dtype=float32)"
      ]
     },
     "execution_count": 21,
     "metadata": {},
     "output_type": "execute_result"
    }
   ],
   "source": [
    "random_tensor = tf.random.normal([5,5], mean=0., stddev=1., seed=1)\n",
    "random_tensor.numpy()"
   ]
  },
  {
   "cell_type": "markdown",
   "id": "6f547857-d66d-4d15-9c0e-2e989264055c",
   "metadata": {},
   "source": [
    "### Buatlah sebuah tensor dengan shape(5,5) dari sebuah list dengan nilai bilangan prima dalam variable prima_tensor\n",
    "### menggunakan tf.constant"
   ]
  },
  {
   "cell_type": "code",
   "execution_count": 22,
   "id": "6072b448-3a60-4640-b0a2-503183917063",
   "metadata": {},
   "outputs": [
    {
     "data": {
      "text/plain": [
       "array([[ 2.,  3.,  5.,  7., 11.],\n",
       "       [13., 17., 19., 23., 29.],\n",
       "       [31., 37., 41., 43., 47.],\n",
       "       [53., 59., 61., 71., 73.],\n",
       "       [79., 83., 89., 97.,  1.]], dtype=float32)"
      ]
     },
     "execution_count": 22,
     "metadata": {},
     "output_type": "execute_result"
    }
   ],
   "source": [
    "list_bill_prima = [[2, 3, 5, 7, 11],[13, 17, 19, 23, 29],[31, 37, 41, 43, 47],[53, 59, 61, 71, 73],[79, 83, 89, 97, 1]]\n",
    "\n",
    "bill_prima_tensor = tf.constant(list_bilprim, dtype=tf.float32) \n",
    "bill_prima_tensor.numpy()"
   ]
  },
  {
   "cell_type": "markdown",
   "id": "d72b46f1-c068-4186-a117-773d48af588b",
   "metadata": {},
   "source": [
    "### Tampilkan dimensi dari kedua variable tersebut\n",
    "### dimensi dari variabel random_tensor menggunakan perintah shape"
   ]
  },
  {
   "cell_type": "code",
   "execution_count": 23,
   "id": "6a119fef-c0e6-4783-8ae8-8b616c59984e",
   "metadata": {},
   "outputs": [
    {
     "data": {
      "text/plain": [
       "TensorShape([5, 5])"
      ]
     },
     "execution_count": 23,
     "metadata": {},
     "output_type": "execute_result"
    }
   ],
   "source": [
    "random_tensor.shape "
   ]
  },
  {
   "cell_type": "markdown",
   "id": "64509366-c988-4fb5-a2f2-369aad2b5f66",
   "metadata": {},
   "source": [
    "### dimensi dari variabel bill_prima_tensor menggunakan perintah shape"
   ]
  },
  {
   "cell_type": "code",
   "execution_count": 25,
   "id": "d3831325-b510-460c-9642-54e1c0ed30bd",
   "metadata": {},
   "outputs": [
    {
     "data": {
      "text/plain": [
       "TensorShape([5, 5])"
      ]
     },
     "execution_count": 25,
     "metadata": {},
     "output_type": "execute_result"
    }
   ],
   "source": [
    "bill_prima_tensor.shape"
   ]
  },
  {
   "cell_type": "markdown",
   "id": "23aaa40d-b3fe-4ef4-ad23-bdea23dcdf6b",
   "metadata": {},
   "source": [
    "### Tampilkan hasil dari perhitungan aritmetika 2 variable tersebut (Gunakan minimal 5 operator)"
   ]
  },
  {
   "cell_type": "code",
   "execution_count": 31,
   "id": "86ad66cf-19f4-40ca-966e-5625af1dab9c",
   "metadata": {},
   "outputs": [
    {
     "name": "stdout",
     "output_type": "stream",
     "text": [
      "Pengurangan : tf.Tensor(\n",
      "[[ 2.323865   2.0086632  4.8597574  5.742603  10.900077 ]\n",
      " [12.810167  17.287111  20.74136   21.128124  31.01045  ]\n",
      " [32.467304  38.272198  41.780373  42.05927   47.06165  ]\n",
      " [55.08425   58.38577   62.45109   71.88693   73.96741  ]\n",
      " [78.05168   83.69745   88.46085   97.5297     3.0105364]], shape=(5, 5), dtype=float32)\n"
     ]
    }
   ],
   "source": [
    "print(\"Pengurangan :\",tf.subtract(bill_prima_tensor,random_tensor))"
   ]
  },
  {
   "cell_type": "code",
   "execution_count": 32,
   "id": "9b3f1fdd-d2b0-4d3b-b3dd-785488c4fa7f",
   "metadata": {},
   "outputs": [
    {
     "name": "stdout",
     "output_type": "stream",
     "text": [
      "Pembagian : tf.Tensor(\n",
      "[[-6.17541504e+00  3.02621627e+00  3.56524887e+01  5.56705570e+00\n",
      "   1.10084381e+02]\n",
      " [ 6.84815216e+01 -5.92103577e+01 -1.09110155e+01  1.22871428e+01\n",
      "  -1.44246283e+01]\n",
      " [-2.11271992e+01 -2.90835018e+01 -5.25389252e+01  4.57091675e+01\n",
      "  -7.62390198e+02]\n",
      " [-2.54287796e+01  9.60550156e+01 -4.20373077e+01 -8.00509415e+01\n",
      "  -7.54593201e+01]\n",
      " [ 8.33053589e+01 -1.19004959e+02  1.65076584e+02 -1.83122299e+02\n",
      "  -4.97379690e-01]], shape=(5, 5), dtype=float32)\n"
     ]
    }
   ],
   "source": [
    "print(\"Pembagian :\",tf.divide(bill_prima_tensor,random_tensor))"
   ]
  },
  {
   "cell_type": "code",
   "execution_count": 33,
   "id": "9d27cfd2-d285-41b3-bb86-1a3ecc43f334",
   "metadata": {},
   "outputs": [
    {
     "name": "stdout",
     "output_type": "stream",
     "text": [
      "Penjumlahan : tf.Tensor(\n",
      "[[ 1.6761351  3.9913368  5.1402426  8.257397  11.099923 ]\n",
      " [13.189833  16.712889  17.25864   24.871876  26.98955  ]\n",
      " [29.532698  35.727802  40.219627  43.94073   46.93835  ]\n",
      " [50.91575   59.61423   59.54891   70.11307   72.03259  ]\n",
      " [79.94832   82.30255   89.53915   96.4703    -1.0105364]], shape=(5, 5), dtype=float32)\n"
     ]
    }
   ],
   "source": [
    "print(\"Penjumlahan :\",tf.add(bill_prima_tensor,random_tensor))"
   ]
  },
  {
   "cell_type": "code",
   "execution_count": 34,
   "id": "e9a466ce-90e0-4ee8-89af-dbcd7c66bcdf",
   "metadata": {},
   "outputs": [
    {
     "name": "stdout",
     "output_type": "stream",
     "text": [
      "Perkalian : tf.Tensor(\n",
      "[[  -0.64772975    2.974011      0.70121336    8.801781      1.0991569 ]\n",
      " [   2.4678192    -4.880903    -33.08583      43.053135    -58.303062  ]\n",
      " [ -45.48639     -47.07136     -31.995327     40.451405     -2.8974664 ]\n",
      " [-110.465385     36.23965     -88.51661     -62.9724      -70.620834  ]\n",
      " [  74.91715     -57.888344     47.983788    -51.380962     -2.0105364 ]], shape=(5, 5), dtype=float32)\n"
     ]
    }
   ],
   "source": [
    "print(\"Perkalian :\",tf.multiply(bill_prima_tensor,random_tensor))"
   ]
  },
  {
   "cell_type": "code",
   "execution_count": 36,
   "id": "01d11ad8-fc63-4409-a44a-2e49a615f5f8",
   "metadata": {},
   "outputs": [
    {
     "name": "stdout",
     "output_type": "stream",
     "text": [
      "Logaritma : tf.Tensor(\n",
      "[[0.6931472 1.0986123 1.609438  1.9459102 2.3978953]\n",
      " [2.5649493 2.8332133 2.944439  3.1354942 3.3672957]\n",
      " [3.4339871 3.610918  3.713572  3.7612002 3.8501477]\n",
      " [3.9702919 4.0775375 4.1108737 4.26268   4.2904596]\n",
      " [4.3694477 4.4188404 4.4886365 4.574711  0.       ]], shape=(5, 5), dtype=float32)\n"
     ]
    }
   ],
   "source": [
    "print(\"Logaritma :\",tf.math.log(bill_prima_tensor,random_tensor))"
   ]
  },
  {
   "cell_type": "markdown",
   "id": "fa46ba03-0838-4635-9de3-778dede5440e",
   "metadata": {},
   "source": [
    "### Tampilkan nilai maksimal dan minimal dari variable random_tensor"
   ]
  },
  {
   "cell_type": "code",
   "execution_count": 37,
   "id": "36b43269-235b-4609-8f89-93e0989ab61b",
   "metadata": {},
   "outputs": [
    {
     "data": {
      "text/plain": [
       "array([3, 3, 3, 1, 0], dtype=int64)"
      ]
     },
     "execution_count": 37,
     "metadata": {},
     "output_type": "execute_result"
    }
   ],
   "source": [
    "tf.argmax(random_tensor, axis=1). numpy()"
   ]
  },
  {
   "cell_type": "code",
   "execution_count": 38,
   "id": "4ec7d8d8-09c7-406e-b311-4add3cc1b3cc",
   "metadata": {},
   "outputs": [
    {
     "data": {
      "text/plain": [
       "array([0, 4, 0, 0, 4], dtype=int64)"
      ]
     },
     "execution_count": 38,
     "metadata": {},
     "output_type": "execute_result"
    }
   ],
   "source": [
    "tf.argmin(random_tensor, axis=1). numpy()"
   ]
  },
  {
   "cell_type": "code",
   "execution_count": 39,
   "id": "187bb382-8ed0-4fb5-810f-31824dd7f714",
   "metadata": {},
   "outputs": [
    {
     "data": {
      "text/plain": [
       "array([4, 0, 4, 1, 0], dtype=int64)"
      ]
     },
     "execution_count": 39,
     "metadata": {},
     "output_type": "execute_result"
    }
   ],
   "source": [
    "tf.argmax(random_tensor, axis=0). numpy()"
   ]
  },
  {
   "cell_type": "code",
   "execution_count": 40,
   "id": "4a66c3be-708c-4ffa-973b-377839ccb0b5",
   "metadata": {},
   "outputs": [
    {
     "data": {
      "text/plain": [
       "array([3, 2, 1, 3, 4], dtype=int64)"
      ]
     },
     "execution_count": 40,
     "metadata": {},
     "output_type": "execute_result"
    }
   ],
   "source": [
    "tf.argmin(random_tensor, axis=0). numpy()"
   ]
  },
  {
   "cell_type": "markdown",
   "id": "c1643afe-a680-483d-ad7a-12fc0c3440bc",
   "metadata": {},
   "source": [
    "### Tampilkan hasil dari penggabungan variable random_tensor dengan prima_tensor (concatenation)"
   ]
  },
  {
   "cell_type": "code",
   "execution_count": 41,
   "id": "71e7306e-65b5-4d0a-8092-f27bef4a499e",
   "metadata": {},
   "outputs": [
    {
     "data": {
      "text/plain": [
       "<tf.Tensor: shape=(5, 10), dtype=float32, numpy=\n",
       "array([[-3.2386488e-01,  9.9133694e-01,  1.4024267e-01,  1.2573972e+00,\n",
       "         9.9923350e-02,  2.0000000e+00,  3.0000000e+00,  5.0000000e+00,\n",
       "         7.0000000e+00,  1.1000000e+01],\n",
       "       [ 1.8983224e-01, -2.8711194e-01, -1.7413595e+00,  1.8718754e+00,\n",
       "        -2.0104504e+00,  1.3000000e+01,  1.7000000e+01,  1.9000000e+01,\n",
       "         2.3000000e+01,  2.9000000e+01],\n",
       "       [-1.4673029e+00, -1.2721989e+00, -7.8037381e-01,  9.4073033e-01,\n",
       "        -6.1648224e-02,  3.1000000e+01,  3.7000000e+01,  4.1000000e+01,\n",
       "         4.3000000e+01,  4.7000000e+01],\n",
       "       [-2.0842526e+00,  6.1423135e-01, -1.4510920e+00, -8.8693523e-01,\n",
       "        -9.6740866e-01,  5.3000000e+01,  5.9000000e+01,  6.1000000e+01,\n",
       "         7.1000000e+01,  7.3000000e+01],\n",
       "       [ 9.4831836e-01, -6.9744992e-01,  5.3914368e-01, -5.2970064e-01,\n",
       "        -2.0105364e+00,  7.9000000e+01,  8.3000000e+01,  8.9000000e+01,\n",
       "         9.7000000e+01,  1.0000000e+00]], dtype=float32)>"
      ]
     },
     "execution_count": 41,
     "metadata": {},
     "output_type": "execute_result"
    }
   ],
   "source": [
    "tf.concat([random_tensor, bill_prima_tensor], axis=1)"
   ]
  },
  {
   "cell_type": "code",
   "execution_count": 42,
   "id": "747c71a0-1383-4d49-9919-1542882a8b19",
   "metadata": {},
   "outputs": [
    {
     "data": {
      "text/plain": [
       "<tf.Tensor: shape=(10, 5), dtype=float32, numpy=\n",
       "array([[-3.2386488e-01,  9.9133694e-01,  1.4024267e-01,  1.2573972e+00,\n",
       "         9.9923350e-02],\n",
       "       [ 1.8983224e-01, -2.8711194e-01, -1.7413595e+00,  1.8718754e+00,\n",
       "        -2.0104504e+00],\n",
       "       [-1.4673029e+00, -1.2721989e+00, -7.8037381e-01,  9.4073033e-01,\n",
       "        -6.1648224e-02],\n",
       "       [-2.0842526e+00,  6.1423135e-01, -1.4510920e+00, -8.8693523e-01,\n",
       "        -9.6740866e-01],\n",
       "       [ 9.4831836e-01, -6.9744992e-01,  5.3914368e-01, -5.2970064e-01,\n",
       "        -2.0105364e+00],\n",
       "       [ 2.0000000e+00,  3.0000000e+00,  5.0000000e+00,  7.0000000e+00,\n",
       "         1.1000000e+01],\n",
       "       [ 1.3000000e+01,  1.7000000e+01,  1.9000000e+01,  2.3000000e+01,\n",
       "         2.9000000e+01],\n",
       "       [ 3.1000000e+01,  3.7000000e+01,  4.1000000e+01,  4.3000000e+01,\n",
       "         4.7000000e+01],\n",
       "       [ 5.3000000e+01,  5.9000000e+01,  6.1000000e+01,  7.1000000e+01,\n",
       "         7.3000000e+01],\n",
       "       [ 7.9000000e+01,  8.3000000e+01,  8.9000000e+01,  9.7000000e+01,\n",
       "         1.0000000e+00]], dtype=float32)>"
      ]
     },
     "execution_count": 42,
     "metadata": {},
     "output_type": "execute_result"
    }
   ],
   "source": [
    "tf.concat([random_tensor, bill_prima_tensor], axis=0)"
   ]
  },
  {
   "cell_type": "markdown",
   "id": "db959d3e-ea56-4f61-b66a-1af291653360",
   "metadata": {},
   "source": [
    "### Tampilkan hasil sorting dari kedua variable di atas. (descending)"
   ]
  },
  {
   "cell_type": "code",
   "execution_count": 43,
   "id": "e09c7b5c-1d2f-4821-8d33-7d9f188e0eee",
   "metadata": {},
   "outputs": [
    {
     "data": {
      "text/plain": [
       "array([[ 1.2573972 ,  0.99133694,  0.14024267,  0.09992335, -0.32386488],\n",
       "       [ 1.8718754 ,  0.18983224, -0.28711194, -1.7413595 , -2.0104504 ],\n",
       "       [ 0.94073033, -0.06164822, -0.7803738 , -1.2721989 , -1.4673029 ],\n",
       "       [ 0.61423135, -0.88693523, -0.96740866, -1.451092  , -2.0842526 ],\n",
       "       [ 0.94831836,  0.5391437 , -0.52970064, -0.6974499 , -2.0105364 ]],\n",
       "      dtype=float32)"
      ]
     },
     "execution_count": 43,
     "metadata": {},
     "output_type": "execute_result"
    }
   ],
   "source": [
    "sort_random_tensor0 = tf.sort(random_tensor, direction=\"DESCENDING\") \n",
    "sort_random_tensor0.numpy()"
   ]
  },
  {
   "cell_type": "code",
   "execution_count": 44,
   "id": "229505d5-e464-400f-8363-5a2231a6f7ea",
   "metadata": {},
   "outputs": [
    {
     "data": {
      "text/plain": [
       "array([[11.,  7.,  5.,  3.,  2.],\n",
       "       [29., 23., 19., 17., 13.],\n",
       "       [47., 43., 41., 37., 31.],\n",
       "       [73., 71., 61., 59., 53.],\n",
       "       [97., 89., 83., 79.,  1.]], dtype=float32)"
      ]
     },
     "execution_count": 44,
     "metadata": {},
     "output_type": "execute_result"
    }
   ],
   "source": [
    "sort_bill_prima_tensor0 = tf.sort(bill_prima_tensor, direction=\"DESCENDING\")\n",
    "sort_bill_prima_tensor0.numpy()"
   ]
  },
  {
   "cell_type": "code",
   "execution_count": 45,
   "id": "c3a232af-8ba8-4f44-8e92-f4ee3b34077a",
   "metadata": {},
   "outputs": [
    {
     "data": {
      "text/plain": [
       "array([[3, 1, 2, 4, 0],\n",
       "       [3, 0, 1, 2, 4],\n",
       "       [3, 4, 2, 1, 0],\n",
       "       [1, 3, 4, 2, 0],\n",
       "       [0, 2, 3, 1, 4]])"
      ]
     },
     "execution_count": 45,
     "metadata": {},
     "output_type": "execute_result"
    }
   ],
   "source": [
    "sort_random_tensor1 = tf.argsort(random_tensor, direction=\"DESCENDING\") \n",
    "sort_random_tensor1.numpy()"
   ]
  },
  {
   "cell_type": "code",
   "execution_count": 47,
   "id": "b91b1fa9-1374-4ab3-8981-99e64f241d5f",
   "metadata": {},
   "outputs": [
    {
     "data": {
      "text/plain": [
       "array([[4, 3, 2, 1, 0],\n",
       "       [4, 3, 2, 1, 0],\n",
       "       [4, 3, 2, 1, 0],\n",
       "       [4, 3, 2, 1, 0],\n",
       "       [3, 2, 1, 0, 4]])"
      ]
     },
     "execution_count": 47,
     "metadata": {},
     "output_type": "execute_result"
    }
   ],
   "source": [
    "sort_bill_prima_tensor1 = tf.argsort(bill_prima_tensor, direction=\"DESCENDING\")\n",
    "sort_bill_prima_tensor1.numpy()"
   ]
  },
  {
   "cell_type": "code",
   "execution_count": null,
   "id": "28b096c8-e991-4621-ad21-e849771e3ecf",
   "metadata": {},
   "outputs": [],
   "source": []
  }
 ],
 "metadata": {
  "kernelspec": {
   "display_name": "Python 3 (ipykernel)",
   "language": "python",
   "name": "python3"
  },
  "language_info": {
   "codemirror_mode": {
    "name": "ipython",
    "version": 3
   },
   "file_extension": ".py",
   "mimetype": "text/x-python",
   "name": "python",
   "nbconvert_exporter": "python",
   "pygments_lexer": "ipython3",
   "version": "3.10.7"
  }
 },
 "nbformat": 4,
 "nbformat_minor": 5
}
