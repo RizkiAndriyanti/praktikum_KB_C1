{
 "cells": [
  {
   "cell_type": "markdown",
   "id": "4ab281d4-7521-47b7-9a09-7a30a3f23fe0",
   "metadata": {},
   "source": [
    "## POSTTEST 8(DEEP LEARNING)"
   ]
  },
  {
   "cell_type": "code",
   "execution_count": 2,
   "id": "ee83eb01-f11c-4466-b13f-584f62c36464",
   "metadata": {},
   "outputs": [],
   "source": [
    "import numpy as np\n",
    "import tensorflow as tf\n",
    "import matplotlib.pyplot as plt\n",
    "\n",
    "from tensorflow import keras\n",
    "from tensorflow.keras import layers,optimizers,datasets\n",
    "from tensorflow.keras import Sequential\n",
    "from tensorflow.keras.layers import Dense"
   ]
  },
  {
   "cell_type": "markdown",
   "id": "eda6329f-f86d-44a7-9bec-ff1c59283695",
   "metadata": {},
   "source": [
    "## 1. REGRESSION-DNN\n",
    "\n",
    "Deep learning merupakan subbidang machine learning yang algortimatnya\n",
    "terinspirasi dari struktur syaraf manusia. Struktur tersebut dinamakan Artificial\n",
    "Neural Network yang disingkat ANN. ANN memiliki kemampuan untuk belajar dan\n",
    "beradaptasi sesuai informasi yang diberikan. Deep learning menggunakan level\n",
    "hirarki jaringan saraf tiru yang dibuat seperti otak manusia dengan neuron nodes\n",
    "terhubung seperti jaring.\n",
    "Neuron-neuron dalam neural network disusun dalam grup yang disebut layer.\n",
    "ANN terdiri dari 3 layer:\n",
    "1. Input layer → berisi variabel data input\n",
    "2. Hidden layer/processing layer → berisi Langkah pengenalan objek\n",
    "3. Output layer → berisi hasil pengenalan suatu objek\n",
    "\n",
    "Deep Neural Network (DNN) adalah salah satu algoritma dalam ANN.\n",
    "Algoritma ini memiliki pengertian sebagai jaringan saraf tiru yang memiliki lebih dari\n",
    "satu lapisan saraf tersebunyi. Pada modul ini kita akan membangun DNN\n",
    "menggunakan Keras."
   ]
  },
  {
   "cell_type": "code",
   "execution_count": 3,
   "id": "55ad07cc-5070-449d-a2b2-af522bcd0ac1",
   "metadata": {},
   "outputs": [],
   "source": [
    "x = np.array([1,2,3,4,5,6],dtype = float)\n",
    "y = np.array([2,3,4,8,10,12],dtype= float)"
   ]
  },
  {
   "cell_type": "code",
   "execution_count": 4,
   "id": "ae0ad872-7527-4918-9c98-c595cbc414fb",
   "metadata": {},
   "outputs": [
    {
     "data": {
      "image/png": "[encoded data removed]",
      "text/plain": [
       "<Figure size 640x480 with 1 Axes>"
      ]
     },
     "metadata": {},
     "output_type": "display_data"
    }
   ],
   "source": [
    "plt.scatter(x, y)\n",
    "plt.show()"
   ]
  },
  {
   "cell_type": "code",
   "execution_count": 5,
   "id": "18ee7495-e12b-4210-98a0-e5bffccbbef0",
   "metadata": {},
   "outputs": [],
   "source": [
    "model = tf.keras.Sequential([\n",
    "    tf.keras.layers.Dense(units=1, input_shape=[1])\n",
    "])"
   ]
  },
  {
   "cell_type": "code",
   "execution_count": 6,
   "id": "eddb8deb-9894-4615-9395-8d52b5b89d29",
   "metadata": {},
   "outputs": [],
   "source": [
    "model = tf.keras.Sequential([tf.keras.layers.Dense(1, input_shape=[1])])"
   ]
  },
  {
   "cell_type": "code",
   "execution_count": 7,
   "id": "61d1588f-bbe3-4ee1-9621-2069c2639f36",
   "metadata": {},
   "outputs": [],
   "source": [
    "model.compile(optimizer='adam', loss='mae')"
   ]
  },
  {
   "cell_type": "code",
   "execution_count": 8,
   "id": "e22f9a5e-5405-40c7-ae8a-bff1095f2142",
   "metadata": {},
   "outputs": [
    {
     "name": "stdout",
     "output_type": "stream",
     "text": [
      "Epoch 1/500\n",
      "10/10 [==============================] - 0s 634us/step - loss: 6.3289\n",
      "Epoch 2/500\n",
      "10/10 [==============================] - 0s 0s/step - loss: 4.7754\n",
      "Epoch 3/500\n",
      "10/10 [==============================] - 0s 889us/step - loss: 5.8661\n",
      "Epoch 4/500\n",
      "10/10 [==============================] - 0s 1ms/step - loss: 5.1252\n",
      "Epoch 5/500\n",
      "10/10 [==============================] - 0s 889us/step - loss: 5.9813\n",
      "Epoch 6/500\n",
      "10/10 [==============================] - 0s 889us/step - loss: 5.4903\n",
      "Epoch 7/500\n",
      "10/10 [==============================] - 0s 2ms/step - loss: 5.4490\n",
      "Epoch 8/500\n",
      "10/10 [==============================] - 0s 2ms/step - loss: 5.1664\n",
      "Epoch 9/500\n",
      "10/10 [==============================] - 0s 2ms/step - loss: 5.6084\n",
      "Epoch 10/500\n",
      "10/10 [==============================] - 0s 892us/step - loss: 5.4935\n",
      "Epoch 11/500\n",
      "10/10 [==============================] - 0s 889us/step - loss: 5.1144\n",
      "Epoch 12/500\n",
      "10/10 [==============================] - 0s 889us/step - loss: 5.2422\n",
      "Epoch 13/500\n",
      "10/10 [==============================] - 0s 2ms/step - loss: 5.7982\n",
      "Epoch 14/500\n",
      "10/10 [==============================] - 0s 2ms/step - loss: 4.5610\n",
      "Epoch 15/500\n",
      "10/10 [==============================] - 0s 2ms/step - loss: 5.1184\n",
      "Epoch 16/500\n",
      "10/10 [==============================] - 0s 2ms/step - loss: 4.9761\n",
      "Epoch 17/500\n",
      "10/10 [==============================] - 0s 889us/step - loss: 5.0710\n",
      "Epoch 18/500\n",
      "10/10 [==============================] - 0s 889us/step - loss: 5.0550\n",
      "Epoch 19/500\n",
      "10/10 [==============================] - 0s 892us/step - loss: 4.7302\n",
      "Epoch 20/500\n",
      "10/10 [==============================] - 0s 2ms/step - loss: 5.5517\n",
      "Epoch 21/500\n",
      "10/10 [==============================] - 0s 2ms/step - loss: 4.4493\n",
      "Epoch 22/500\n",
      "10/10 [==============================] - 0s 2ms/step - loss: 4.6117\n",
      "Epoch 23/500\n",
      "10/10 [==============================] - 0s 889us/step - loss: 4.7877\n",
      "Epoch 24/500\n",
      "10/10 [==============================] - 0s 889us/step - loss: 4.9591\n",
      "Epoch 25/500\n",
      "10/10 [==============================] - 0s 565us/step - loss: 4.5485\n",
      "Epoch 26/500\n",
      "10/10 [==============================] - 0s 888us/step - loss: 4.8711\n",
      "Epoch 27/500\n",
      "10/10 [==============================] - 0s 889us/step - loss: 4.5655\n",
      "Epoch 28/500\n",
      "10/10 [==============================] - 0s 887us/step - loss: 4.1736\n",
      "Epoch 29/500\n",
      "10/10 [==============================] - 0s 889us/step - loss: 4.4390\n",
      "Epoch 30/500\n",
      "10/10 [==============================] - 0s 2ms/step - loss: 4.9989\n",
      "Epoch 31/500\n",
      "10/10 [==============================] - 0s 2ms/step - loss: 3.7540\n",
      "Epoch 32/500\n",
      "10/10 [==============================] - 0s 2ms/step - loss: 5.0630\n",
      "Epoch 33/500\n",
      "10/10 [==============================] - 0s 2ms/step - loss: 4.4212\n",
      "Epoch 34/500\n",
      "10/10 [==============================] - 0s 2ms/step - loss: 4.3290\n",
      "Epoch 35/500\n",
      "10/10 [==============================] - 0s 892us/step - loss: 4.0966\n",
      "Epoch 36/500\n",
      "10/10 [==============================] - 0s 887us/step - loss: 4.4391\n",
      "Epoch 37/500\n",
      "10/10 [==============================] - 0s 889us/step - loss: 4.7845\n",
      "Epoch 38/500\n",
      "10/10 [==============================] - 0s 889us/step - loss: 4.2603\n",
      "Epoch 39/500\n",
      "10/10 [==============================] - 0s 2ms/step - loss: 3.4494\n",
      "Epoch 40/500\n",
      "10/10 [==============================] - 0s 2ms/step - loss: 3.6971\n",
      "Epoch 41/500\n",
      "10/10 [==============================] - 0s 2ms/step - loss: 4.9456\n",
      "Epoch 42/500\n",
      "10/10 [==============================] - 0s 2ms/step - loss: 3.4772\n",
      "Epoch 43/500\n",
      "10/10 [==============================] - 0s 2ms/step - loss: 3.7777\n",
      "Epoch 44/500\n",
      "10/10 [==============================] - 0s 2ms/step - loss: 4.0547\n",
      "Epoch 45/500\n",
      "10/10 [==============================] - 0s 2ms/step - loss: 3.9115\n",
      "Epoch 46/500\n",
      "10/10 [==============================] - 0s 2ms/step - loss: 3.7328\n",
      "Epoch 47/500\n",
      "10/10 [==============================] - 0s 889us/step - loss: 4.5337\n",
      "Epoch 48/500\n",
      "10/10 [==============================] - 0s 2ms/step - loss: 3.1093\n",
      "Epoch 49/500\n",
      "10/10 [==============================] - 0s 2ms/step - loss: 3.8742\n",
      "Epoch 50/500\n",
      "10/10 [==============================] - 0s 2ms/step - loss: 2.9676\n",
      "Epoch 51/500\n",
      "10/10 [==============================] - 0s 2ms/step - loss: 4.1561\n",
      "Epoch 52/500\n",
      "10/10 [==============================] - 0s 889us/step - loss: 3.4527\n",
      "Epoch 53/500\n",
      "10/10 [==============================] - 0s 892us/step - loss: 3.6744\n",
      "Epoch 54/500\n",
      "10/10 [==============================] - 0s 889us/step - loss: 3.5005\n",
      "Epoch 55/500\n",
      "10/10 [==============================] - 0s 2ms/step - loss: 3.4307\n",
      "Epoch 56/500\n",
      "10/10 [==============================] - 0s 892us/step - loss: 3.5742\n",
      "Epoch 57/500\n",
      "10/10 [==============================] - 0s 887us/step - loss: 3.2486\n",
      "Epoch 58/500\n",
      "10/10 [==============================] - 0s 889us/step - loss: 2.8583\n",
      "Epoch 59/500\n",
      "10/10 [==============================] - 0s 889us/step - loss: 3.9196\n",
      "Epoch 60/500\n",
      "10/10 [==============================] - 0s 889us/step - loss: 3.1036\n",
      "Epoch 61/500\n",
      "10/10 [==============================] - 0s 889us/step - loss: 3.1102\n",
      "Epoch 62/500\n",
      "10/10 [==============================] - 0s 889us/step - loss: 3.3699\n",
      "Epoch 63/500\n",
      "10/10 [==============================] - 0s 892us/step - loss: 3.0277\n",
      "Epoch 64/500\n",
      "10/10 [==============================] - 0s 889us/step - loss: 2.9862\n",
      "Epoch 65/500\n",
      "10/10 [==============================] - 0s 2ms/step - loss: 2.7060\n",
      "Epoch 66/500\n",
      "10/10 [==============================] - 0s 2ms/step - loss: 3.4417\n",
      "Epoch 67/500\n",
      "10/10 [==============================] - 0s 2ms/step - loss: 2.8447\n",
      "Epoch 68/500\n",
      "10/10 [==============================] - 0s 2ms/step - loss: 3.0545\n",
      "Epoch 69/500\n",
      "10/10 [==============================] - 0s 2ms/step - loss: 2.8623\n",
      "Epoch 70/500\n",
      "10/10 [==============================] - 0s 2ms/step - loss: 2.8376\n",
      "Epoch 71/500\n",
      "10/10 [==============================] - 0s 886us/step - loss: 2.6829\n",
      "Epoch 72/500\n",
      "10/10 [==============================] - 0s 886us/step - loss: 2.8679\n",
      "Epoch 73/500\n",
      "10/10 [==============================] - 0s 889us/step - loss: 2.7018\n",
      "Epoch 74/500\n",
      "10/10 [==============================] - 0s 889us/step - loss: 2.7950\n",
      "Epoch 75/500\n",
      "10/10 [==============================] - 0s 2ms/step - loss: 2.5199\n",
      "Epoch 76/500\n",
      "10/10 [==============================] - 0s 2ms/step - loss: 2.5972\n",
      "Epoch 77/500\n",
      "10/10 [==============================] - 0s 889us/step - loss: 2.5464\n",
      "Epoch 78/500\n",
      "10/10 [==============================] - 0s 889us/step - loss: 2.4983\n",
      "Epoch 79/500\n",
      "10/10 [==============================] - 0s 889us/step - loss: 1.9373\n",
      "Epoch 80/500\n",
      "10/10 [==============================] - 0s 889us/step - loss: 2.5377\n",
      "Epoch 81/500\n",
      "10/10 [==============================] - 0s 889us/step - loss: 2.7932\n",
      "Epoch 82/500\n",
      "10/10 [==============================] - 0s 2ms/step - loss: 2.7576\n",
      "Epoch 83/500\n",
      "10/10 [==============================] - 0s 2ms/step - loss: 1.9822\n",
      "Epoch 84/500\n",
      "10/10 [==============================] - 0s 2ms/step - loss: 2.1574\n",
      "Epoch 85/500\n",
      "10/10 [==============================] - 0s 889us/step - loss: 2.3150\n",
      "Epoch 86/500\n",
      "10/10 [==============================] - 0s 889us/step - loss: 1.9744\n",
      "Epoch 87/500\n",
      "10/10 [==============================] - 0s 889us/step - loss: 2.2333\n",
      "Epoch 88/500\n",
      "10/10 [==============================] - 0s 889us/step - loss: 1.5977\n",
      "Epoch 89/500\n",
      "10/10 [==============================] - 0s 2ms/step - loss: 2.1516\n",
      "Epoch 90/500\n",
      "10/10 [==============================] - 0s 2ms/step - loss: 2.4015\n",
      "Epoch 91/500\n",
      "10/10 [==============================] - 0s 886us/step - loss: 2.0677\n",
      "Epoch 92/500\n",
      "10/10 [==============================] - 0s 887us/step - loss: 1.9506\n",
      "Epoch 93/500\n",
      "10/10 [==============================] - 0s 3ms/step - loss: 1.8411\n",
      "Epoch 94/500\n",
      "10/10 [==============================] - 0s 889us/step - loss: 2.0211\n",
      "Epoch 95/500\n",
      "10/10 [==============================] - 0s 885us/step - loss: 1.4468\n",
      "Epoch 96/500\n",
      "10/10 [==============================] - 0s 889us/step - loss: 2.2746\n",
      "Epoch 97/500\n",
      "10/10 [==============================] - 0s 2ms/step - loss: 1.7944\n",
      "Epoch 98/500\n",
      "10/10 [==============================] - 0s 2ms/step - loss: 2.2584\n",
      "Epoch 99/500\n",
      "10/10 [==============================] - 0s 891us/step - loss: 1.6168\n",
      "Epoch 100/500\n",
      "10/10 [==============================] - 0s 886us/step - loss: 2.2314\n",
      "Epoch 101/500\n",
      "10/10 [==============================] - 0s 2ms/step - loss: 1.9603\n",
      "Epoch 102/500\n",
      "10/10 [==============================] - 0s 889us/step - loss: 1.4233\n",
      "Epoch 103/500\n",
      "10/10 [==============================] - 0s 889us/step - loss: 1.7786\n",
      "Epoch 104/500\n",
      "10/10 [==============================] - 0s 2ms/step - loss: 2.3696\n",
      "Epoch 105/500\n",
      "10/10 [==============================] - 0s 889us/step - loss: 1.4156\n",
      "Epoch 106/500\n",
      "10/10 [==============================] - 0s 889us/step - loss: 2.1701\n",
      "Epoch 107/500\n",
      "10/10 [==============================] - 0s 2ms/step - loss: 1.9339\n",
      "Epoch 108/500\n",
      "10/10 [==============================] - 0s 890us/step - loss: 1.4085\n",
      "Epoch 109/500\n",
      "10/10 [==============================] - 0s 889us/step - loss: 1.9253\n",
      "Epoch 110/500\n",
      "10/10 [==============================] - 0s 889us/step - loss: 1.3796\n",
      "Epoch 111/500\n",
      "10/10 [==============================] - 0s 2ms/step - loss: 2.1537\n",
      "Epoch 112/500\n",
      "10/10 [==============================] - 0s 1ms/step - loss: 1.8082\n",
      "Epoch 113/500\n",
      "10/10 [==============================] - 0s 890us/step - loss: 1.7896\n",
      "Epoch 114/500\n",
      "10/10 [==============================] - 0s 889us/step - loss: 1.8093\n",
      "Epoch 115/500\n",
      "10/10 [==============================] - 0s 857us/step - loss: 1.5620\n",
      "Epoch 116/500\n",
      "10/10 [==============================] - 0s 889us/step - loss: 2.1139\n",
      "Epoch 117/500\n",
      "10/10 [==============================] - 0s 892us/step - loss: 1.6798\n",
      "Epoch 118/500\n",
      "10/10 [==============================] - 0s 889us/step - loss: 1.7589\n",
      "Epoch 119/500\n",
      "10/10 [==============================] - 0s 2ms/step - loss: 1.8674\n",
      "Epoch 120/500\n",
      "10/10 [==============================] - 0s 889us/step - loss: 1.6780\n",
      "Epoch 121/500\n",
      "10/10 [==============================] - 0s 889us/step - loss: 1.3741\n",
      "Epoch 122/500\n",
      "10/10 [==============================] - 0s 889us/step - loss: 2.1492\n",
      "Epoch 123/500\n",
      "10/10 [==============================] - 0s 889us/step - loss: 1.7287\n",
      "Epoch 124/500\n",
      "10/10 [==============================] - 0s 2ms/step - loss: 1.7572\n",
      "Epoch 125/500\n",
      "10/10 [==============================] - 0s 2ms/step - loss: 1.4092\n",
      "Epoch 126/500\n",
      "10/10 [==============================] - 0s 889us/step - loss: 2.0333\n",
      "Epoch 127/500\n",
      "10/10 [==============================] - 0s 889us/step - loss: 1.8022\n",
      "Epoch 128/500\n",
      "10/10 [==============================] - 0s 889us/step - loss: 1.5345\n",
      "Epoch 129/500\n",
      "10/10 [==============================] - 0s 2ms/step - loss: 1.8108\n",
      "Epoch 130/500\n",
      "10/10 [==============================] - 0s 2ms/step - loss: 1.5100\n",
      "Epoch 131/500\n",
      "10/10 [==============================] - 0s 889us/step - loss: 1.8717\n",
      "Epoch 132/500\n",
      "10/10 [==============================] - 0s 889us/step - loss: 1.7131\n",
      "Epoch 133/500\n",
      "10/10 [==============================] - 0s 2ms/step - loss: 1.7089\n",
      "Epoch 134/500\n",
      "10/10 [==============================] - 0s 892us/step - loss: 1.8439\n",
      "Epoch 135/500\n",
      "10/10 [==============================] - 0s 892us/step - loss: 1.4911\n",
      "Epoch 136/500\n",
      "10/10 [==============================] - 0s 2ms/step - loss: 1.6472\n",
      "Epoch 137/500\n",
      "10/10 [==============================] - 0s 889us/step - loss: 1.8631\n",
      "Epoch 138/500\n",
      "10/10 [==============================] - 0s 888us/step - loss: 1.4820\n",
      "Epoch 139/500\n",
      "10/10 [==============================] - 0s 889us/step - loss: 1.5746\n",
      "Epoch 140/500\n",
      "10/10 [==============================] - 0s 889us/step - loss: 1.7229\n",
      "Epoch 141/500\n",
      "10/10 [==============================] - 0s 889us/step - loss: 1.6413\n",
      "Epoch 142/500\n",
      "10/10 [==============================] - 0s 889us/step - loss: 1.6346\n",
      "Epoch 143/500\n",
      "10/10 [==============================] - 0s 2ms/step - loss: 1.6041\n",
      "Epoch 144/500\n",
      "10/10 [==============================] - 0s 889us/step - loss: 1.6480\n",
      "Epoch 145/500\n",
      "10/10 [==============================] - 0s 892us/step - loss: 1.5181\n",
      "Epoch 146/500\n",
      "10/10 [==============================] - 0s 889us/step - loss: 2.0155\n",
      "Epoch 147/500\n",
      "10/10 [==============================] - 0s 889us/step - loss: 1.3020\n",
      "Epoch 148/500\n",
      "10/10 [==============================] - 0s 886us/step - loss: 1.3744\n",
      "Epoch 149/500\n",
      "10/10 [==============================] - 0s 889us/step - loss: 2.1153\n",
      "Epoch 150/500\n",
      "10/10 [==============================] - 0s 2ms/step - loss: 1.2943\n",
      "Epoch 151/500\n",
      "10/10 [==============================] - 0s 889us/step - loss: 1.7724\n",
      "Epoch 152/500\n",
      "10/10 [==============================] - 0s 889us/step - loss: 1.5308\n",
      "Epoch 153/500\n",
      "10/10 [==============================] - 0s 889us/step - loss: 1.4292\n",
      "Epoch 154/500\n",
      "10/10 [==============================] - 0s 889us/step - loss: 1.4654\n",
      "Epoch 155/500\n",
      "10/10 [==============================] - 0s 889us/step - loss: 1.5593\n",
      "Epoch 156/500\n",
      "10/10 [==============================] - 0s 2ms/step - loss: 1.6545\n",
      "Epoch 157/500\n",
      "10/10 [==============================] - 0s 889us/step - loss: 1.4483\n",
      "Epoch 158/500\n",
      "10/10 [==============================] - 0s 889us/step - loss: 1.6814\n",
      "Epoch 159/500\n",
      "10/10 [==============================] - 0s 889us/step - loss: 1.4988\n",
      "Epoch 160/500\n",
      "10/10 [==============================] - 0s 889us/step - loss: 1.2688\n",
      "Epoch 161/500\n",
      "10/10 [==============================] - 0s 888us/step - loss: 1.8864\n",
      "Epoch 162/500\n",
      "10/10 [==============================] - 0s 888us/step - loss: 1.4199\n",
      "Epoch 163/500\n",
      "10/10 [==============================] - 0s 889us/step - loss: 1.4455\n",
      "Epoch 164/500\n",
      "10/10 [==============================] - 0s 892us/step - loss: 1.4268\n",
      "Epoch 165/500\n",
      "10/10 [==============================] - 0s 889us/step - loss: 1.6507\n",
      "Epoch 166/500\n",
      "10/10 [==============================] - 0s 2ms/step - loss: 1.5303\n",
      "Epoch 167/500\n",
      "10/10 [==============================] - 0s 2ms/step - loss: 1.6307\n",
      "Epoch 168/500\n",
      "10/10 [==============================] - 0s 2ms/step - loss: 1.3115\n",
      "Epoch 169/500\n",
      "10/10 [==============================] - 0s 2ms/step - loss: 1.3784\n",
      "Epoch 170/500\n",
      "10/10 [==============================] - 0s 2ms/step - loss: 1.6022\n",
      "Epoch 171/500\n",
      "10/10 [==============================] - 0s 892us/step - loss: 1.4379\n",
      "Epoch 172/500\n",
      "10/10 [==============================] - 0s 3ms/step - loss: 1.4618\n",
      "Epoch 173/500\n",
      "10/10 [==============================] - 0s 889us/step - loss: 1.4289\n",
      "Epoch 174/500\n",
      "10/10 [==============================] - 0s 2ms/step - loss: 1.4774\n",
      "Epoch 175/500\n",
      "10/10 [==============================] - 0s 1ms/step - loss: 1.3814\n",
      "Epoch 176/500\n",
      "10/10 [==============================] - 0s 889us/step - loss: 1.5012\n",
      "Epoch 177/500\n",
      "10/10 [==============================] - 0s 892us/step - loss: 1.4330\n",
      "Epoch 178/500\n",
      "10/10 [==============================] - 0s 2ms/step - loss: 1.5707\n",
      "Epoch 179/500\n",
      "10/10 [==============================] - 0s 891us/step - loss: 1.1354\n",
      "Epoch 180/500\n",
      "10/10 [==============================] - 0s 889us/step - loss: 1.5571\n",
      "Epoch 181/500\n",
      "10/10 [==============================] - 0s 2ms/step - loss: 1.5460\n",
      "Epoch 182/500\n",
      "10/10 [==============================] - 0s 889us/step - loss: 1.4013\n",
      "Epoch 183/500\n",
      "10/10 [==============================] - 0s 889us/step - loss: 1.2651\n",
      "Epoch 184/500\n",
      "10/10 [==============================] - 0s 889us/step - loss: 1.4794\n",
      "Epoch 185/500\n",
      "10/10 [==============================] - 0s 2ms/step - loss: 1.2583\n",
      "Epoch 186/500\n",
      "10/10 [==============================] - 0s 889us/step - loss: 1.4229\n",
      "Epoch 187/500\n",
      "10/10 [==============================] - 0s 892us/step - loss: 1.4739\n",
      "Epoch 188/500\n",
      "10/10 [==============================] - 0s 889us/step - loss: 1.2849\n",
      "Epoch 189/500\n",
      "10/10 [==============================] - 0s 1ms/step - loss: 1.3479\n",
      "Epoch 190/500\n",
      "10/10 [==============================] - 0s 889us/step - loss: 1.3576\n",
      "Epoch 191/500\n",
      "10/10 [==============================] - 0s 889us/step - loss: 1.2425\n",
      "Epoch 192/500\n",
      "10/10 [==============================] - 0s 2ms/step - loss: 1.4554\n",
      "Epoch 193/500\n",
      "10/10 [==============================] - 0s 889us/step - loss: 1.2365\n",
      "Epoch 194/500\n",
      "10/10 [==============================] - 0s 889us/step - loss: 1.4489\n",
      "Epoch 195/500\n",
      "10/10 [==============================] - 0s 889us/step - loss: 1.3185\n",
      "Epoch 196/500\n",
      "10/10 [==============================] - 0s 2ms/step - loss: 1.3772\n",
      "Epoch 197/500\n",
      "10/10 [==============================] - 0s 892us/step - loss: 1.1623\n",
      "Epoch 198/500\n",
      "10/10 [==============================] - 0s 889us/step - loss: 1.4108\n",
      "Epoch 199/500\n",
      "10/10 [==============================] - 0s 2ms/step - loss: 1.3482\n",
      "Epoch 200/500\n",
      "10/10 [==============================] - 0s 886us/step - loss: 1.2529\n",
      "Epoch 201/500\n",
      "10/10 [==============================] - 0s 892us/step - loss: 1.2997\n",
      "Epoch 202/500\n",
      "10/10 [==============================] - 0s 889us/step - loss: 1.3413\n",
      "Epoch 203/500\n",
      "10/10 [==============================] - 0s 2ms/step - loss: 1.2343\n",
      "Epoch 204/500\n",
      "10/10 [==============================] - 0s 2ms/step - loss: 1.2732\n",
      "Epoch 205/500\n",
      "10/10 [==============================] - 0s 2ms/step - loss: 1.1999\n",
      "Epoch 206/500\n",
      "10/10 [==============================] - 0s 886us/step - loss: 1.4370\n",
      "Epoch 207/500\n",
      "10/10 [==============================] - 0s 889us/step - loss: 1.1590\n",
      "Epoch 208/500\n",
      "10/10 [==============================] - 0s 1ms/step - loss: 1.3175\n",
      "Epoch 209/500\n",
      "10/10 [==============================] - 0s 889us/step - loss: 1.1743\n",
      "Epoch 210/500\n",
      "10/10 [==============================] - 0s 889us/step - loss: 1.2522\n",
      "Epoch 211/500\n",
      "10/10 [==============================] - 0s 889us/step - loss: 1.2383\n",
      "Epoch 212/500\n",
      "10/10 [==============================] - 0s 889us/step - loss: 1.3304\n",
      "Epoch 213/500\n",
      "10/10 [==============================] - 0s 889us/step - loss: 1.1247\n",
      "Epoch 214/500\n",
      "10/10 [==============================] - 0s 2ms/step - loss: 1.2660\n",
      "Epoch 215/500\n",
      "10/10 [==============================] - 0s 889us/step - loss: 1.2146\n",
      "Epoch 216/500\n",
      "10/10 [==============================] - 0s 892us/step - loss: 1.1600\n",
      "Epoch 217/500\n",
      "10/10 [==============================] - 0s 889us/step - loss: 1.1159\n",
      "Epoch 218/500\n",
      "10/10 [==============================] - 0s 2ms/step - loss: 1.2267\n",
      "Epoch 219/500\n",
      "10/10 [==============================] - 0s 889us/step - loss: 1.2441\n",
      "Epoch 220/500\n",
      "10/10 [==============================] - 0s 889us/step - loss: 1.1532\n",
      "Epoch 221/500\n",
      "10/10 [==============================] - 0s 892us/step - loss: 1.2649\n",
      "Epoch 222/500\n",
      "10/10 [==============================] - 0s 889us/step - loss: 1.1175\n",
      "Epoch 223/500\n",
      "10/10 [==============================] - 0s 889us/step - loss: 1.1120\n",
      "Epoch 224/500\n",
      "10/10 [==============================] - 0s 889us/step - loss: 1.2288\n",
      "Epoch 225/500\n",
      "10/10 [==============================] - 0s 889us/step - loss: 1.1435\n",
      "Epoch 226/500\n",
      "10/10 [==============================] - 0s 889us/step - loss: 1.1354\n",
      "Epoch 227/500\n",
      "10/10 [==============================] - 0s 889us/step - loss: 1.1701\n",
      "Epoch 228/500\n",
      "10/10 [==============================] - 0s 886us/step - loss: 1.1260\n",
      "Epoch 229/500\n",
      "10/10 [==============================] - 0s 2ms/step - loss: 1.0742\n",
      "Epoch 230/500\n",
      "10/10 [==============================] - 0s 889us/step - loss: 1.1889\n",
      "Epoch 231/500\n",
      "10/10 [==============================] - 0s 889us/step - loss: 1.1166\n",
      "Epoch 232/500\n",
      "10/10 [==============================] - 0s 2ms/step - loss: 1.1565\n",
      "Epoch 233/500\n",
      "10/10 [==============================] - 0s 892us/step - loss: 1.0642\n",
      "Epoch 234/500\n",
      "10/10 [==============================] - 0s 889us/step - loss: 1.1076\n",
      "Epoch 235/500\n",
      "10/10 [==============================] - 0s 2ms/step - loss: 1.1587\n",
      "Epoch 236/500\n",
      "10/10 [==============================] - 0s 889us/step - loss: 0.9706\n",
      "Epoch 237/500\n",
      "10/10 [==============================] - 0s 889us/step - loss: 1.1468\n",
      "Epoch 238/500\n",
      "10/10 [==============================] - 0s 889us/step - loss: 1.0425\n",
      "Epoch 239/500\n",
      "10/10 [==============================] - 0s 889us/step - loss: 1.0540\n",
      "Epoch 240/500\n",
      "10/10 [==============================] - 0s 889us/step - loss: 1.1269\n",
      "Epoch 241/500\n",
      "10/10 [==============================] - 0s 900us/step - loss: 0.9753\n",
      "Epoch 242/500\n",
      "10/10 [==============================] - 0s 2ms/step - loss: 1.0804\n",
      "Epoch 243/500\n",
      "10/10 [==============================] - 0s 892us/step - loss: 1.1179\n",
      "Epoch 244/500\n",
      "10/10 [==============================] - 0s 3ms/step - loss: 1.0792\n",
      "Epoch 245/500\n",
      "10/10 [==============================] - 0s 2ms/step - loss: 0.9331\n",
      "Epoch 246/500\n",
      "10/10 [==============================] - 0s 889us/step - loss: 1.1071\n",
      "Epoch 247/500\n",
      "10/10 [==============================] - 0s 889us/step - loss: 0.9863\n",
      "Epoch 248/500\n",
      "10/10 [==============================] - 0s 889us/step - loss: 1.0545\n",
      "Epoch 249/500\n",
      "10/10 [==============================] - 0s 889us/step - loss: 1.0279\n",
      "Epoch 250/500\n",
      "10/10 [==============================] - 0s 2ms/step - loss: 0.9442\n",
      "Epoch 251/500\n",
      "10/10 [==============================] - 0s 889us/step - loss: 1.1706\n",
      "Epoch 252/500\n",
      "10/10 [==============================] - 0s 889us/step - loss: 0.8993\n",
      "Epoch 253/500\n",
      "10/10 [==============================] - 0s 2ms/step - loss: 0.9262\n",
      "Epoch 254/500\n",
      "10/10 [==============================] - 0s 889us/step - loss: 1.0562\n",
      "Epoch 255/500\n",
      "10/10 [==============================] - 0s 910us/step - loss: 0.9820\n",
      "Epoch 256/500\n",
      "10/10 [==============================] - 0s 2ms/step - loss: 0.8422\n",
      "Epoch 257/500\n",
      "10/10 [==============================] - 0s 886us/step - loss: 1.0742\n",
      "Epoch 258/500\n",
      "10/10 [==============================] - 0s 892us/step - loss: 0.9972\n",
      "Epoch 259/500\n",
      "10/10 [==============================] - 0s 886us/step - loss: 0.9885\n",
      "Epoch 260/500\n",
      "10/10 [==============================] - 0s 889us/step - loss: 0.8926\n",
      "Epoch 261/500\n",
      "10/10 [==============================] - 0s 889us/step - loss: 0.9770\n",
      "Epoch 262/500\n",
      "10/10 [==============================] - 0s 889us/step - loss: 0.9831\n",
      "Epoch 263/500\n",
      "10/10 [==============================] - 0s 889us/step - loss: 0.9366\n",
      "Epoch 264/500\n",
      "10/10 [==============================] - 0s 2ms/step - loss: 0.8877\n",
      "Epoch 265/500\n",
      "10/10 [==============================] - 0s 889us/step - loss: 0.8807\n",
      "Epoch 266/500\n",
      "10/10 [==============================] - 0s 886us/step - loss: 1.0072\n",
      "Epoch 267/500\n",
      "10/10 [==============================] - 0s 889us/step - loss: 0.8683\n",
      "Epoch 268/500\n",
      "10/10 [==============================] - 0s 889us/step - loss: 0.8082\n",
      "Epoch 269/500\n",
      "10/10 [==============================] - 0s 889us/step - loss: 1.0280\n",
      "Epoch 270/500\n",
      "10/10 [==============================] - 0s 889us/step - loss: 0.8670\n",
      "Epoch 271/500\n",
      "10/10 [==============================] - 0s 889us/step - loss: 0.8422\n",
      "Epoch 272/500\n",
      "10/10 [==============================] - 0s 2ms/step - loss: 0.9811\n",
      "Epoch 273/500\n",
      "10/10 [==============================] - 0s 889us/step - loss: 0.8284\n",
      "Epoch 274/500\n",
      "10/10 [==============================] - 0s 889us/step - loss: 0.9721\n",
      "Epoch 275/500\n",
      "10/10 [==============================] - 0s 2ms/step - loss: 0.8849\n",
      "Epoch 276/500\n",
      "10/10 [==============================] - 0s 889us/step - loss: 0.7433\n",
      "Epoch 277/500\n",
      "10/10 [==============================] - 0s 889us/step - loss: 0.8552\n",
      "Epoch 278/500\n",
      "10/10 [==============================] - 0s 889us/step - loss: 0.7035\n",
      "Epoch 279/500\n",
      "10/10 [==============================] - 0s 889us/step - loss: 0.9970\n",
      "Epoch 280/500\n",
      "10/10 [==============================] - 0s 2ms/step - loss: 0.7493\n",
      "Epoch 281/500\n",
      "10/10 [==============================] - 0s 892us/step - loss: 1.0234\n",
      "Epoch 282/500\n",
      "10/10 [==============================] - 0s 889us/step - loss: 0.7701\n",
      "Epoch 283/500\n",
      "10/10 [==============================] - 0s 889us/step - loss: 0.8670\n",
      "Epoch 284/500\n",
      "10/10 [==============================] - 0s 889us/step - loss: 1.0236\n",
      "Epoch 285/500\n",
      "10/10 [==============================] - 0s 2ms/step - loss: 0.6421\n",
      "Epoch 286/500\n",
      "10/10 [==============================] - 0s 889us/step - loss: 0.8646\n",
      "Epoch 287/500\n",
      "10/10 [==============================] - 0s 889us/step - loss: 0.7633\n",
      "Epoch 288/500\n",
      "10/10 [==============================] - 0s 2ms/step - loss: 0.8940\n",
      "Epoch 289/500\n",
      "10/10 [==============================] - 0s 889us/step - loss: 0.7607\n",
      "Epoch 290/500\n",
      "10/10 [==============================] - 0s 892us/step - loss: 0.7920\n",
      "Epoch 291/500\n",
      "10/10 [==============================] - 0s 2ms/step - loss: 0.9587\n",
      "Epoch 292/500\n",
      "10/10 [==============================] - 0s 887us/step - loss: 0.9353\n",
      "Epoch 293/500\n",
      "10/10 [==============================] - 0s 2ms/step - loss: 0.6558\n",
      "Epoch 294/500\n",
      "10/10 [==============================] - 0s 889us/step - loss: 0.9116\n",
      "Epoch 295/500\n",
      "10/10 [==============================] - 0s 889us/step - loss: 0.7746\n",
      "Epoch 296/500\n",
      "10/10 [==============================] - 0s 2ms/step - loss: 0.7435\n",
      "Epoch 297/500\n",
      "10/10 [==============================] - 0s 2ms/step - loss: 0.9733\n",
      "Epoch 298/500\n",
      "10/10 [==============================] - 0s 2ms/step - loss: 0.9294\n",
      "Epoch 299/500\n",
      "10/10 [==============================] - 0s 893us/step - loss: 0.7056\n",
      "Epoch 300/500\n",
      "10/10 [==============================] - 0s 892us/step - loss: 0.8473\n",
      "Epoch 301/500\n",
      "WARNING:tensorflow:Your input ran out of data; interrupting training. Make sure that your dataset or generator can generate at least `steps_per_epoch * epochs` batches (in this case, 5000 batches). You may need to use the repeat() function when building your dataset.\n",
      "10/10 [==============================] - 1s 96ms/step - loss: 0.8473\n"
     ]
    },
    {
     "data": {
      "text/plain": [
       "<keras.callbacks.History at 0x207457e6650>"
      ]
     },
     "execution_count": 8,
     "metadata": {},
     "output_type": "execute_result"
    }
   ],
   "source": [
    "class myCallback(tf.keras.callbacks.Callback):\n",
    "    def on_epoch_end(self, epoch, logs={}):\n",
    "        if(logs.get('loss') < 1e-4):\n",
    "            self.model.stop_training = True\n",
    "            \n",
    "cb = myCallback()\n",
    "\n",
    "model.fit(x,y, epochs=500, steps_per_epoch=10, callbacks=cb)"
   ]
  },
  {
   "cell_type": "markdown",
   "id": "7ac41bfd-57ce-43ff-86e4-c757b1039a66",
   "metadata": {},
   "source": [
    "## 2. MNIST\n",
    "\n",
    "MNIST Classification adalah hello world untuk machine learning. Tujuan dari MNIST Classfication adalah menggunakan input gambar, dan menentukan angka pada gambar tersebut.\n",
    "\n",
    "MNIST dataset terdiri dari 70000 images dari angka yang ditulis dengan tangan. Dataset ini cocok digunakan untuk course, karena data cukup besar dan data sudah di preprocessing, sudah terbagi menjadi data training dan test."
   ]
  },
  {
   "cell_type": "code",
   "execution_count": 10,
   "id": "1a75b8a8-e904-4901-ad10-60b0b67701c3",
   "metadata": {},
   "outputs": [
    {
     "name": "stdout",
     "output_type": "stream",
     "text": [
      "Downloading data from https://storage.googleapis.com/tensorflow/tf-keras-datasets/mnist.npz\n",
      "11490434/11490434 [==============================] - 3s 0us/step\n"
     ]
    }
   ],
   "source": [
    "(x_train_raw, y_train_raw), (x_test_raw, y_test_raw) = datasets.mnist.load_data()"
   ]
  },
  {
   "cell_type": "code",
   "execution_count": 11,
   "id": "2c5605bb-4221-4a13-a4d6-3d53975921af",
   "metadata": {},
   "outputs": [
    {
     "name": "stdout",
     "output_type": "stream",
     "text": [
      "5\n",
      "(60000, 28, 28)\n",
      "(10000, 28, 28)\n"
     ]
    }
   ],
   "source": [
    "print(y_train_raw[0])\n",
    "print(x_train_raw.shape)\n",
    "print(x_test_raw.shape)"
   ]
  },
  {
   "cell_type": "code",
   "execution_count": 12,
   "id": "947ffd3d-99b1-49f3-8d1d-b0362f2ca39b",
   "metadata": {},
   "outputs": [
    {
     "name": "stdout",
     "output_type": "stream",
     "text": [
      "[0. 0. 0. 0. 0. 1. 0. 0. 0. 0.]\n"
     ]
    }
   ],
   "source": [
    "num_classes = 10\n",
    "y_train = tf.keras.utils.to_categorical(y_train_raw, num_classes)\n",
    "y_test = tf.keras.utils.to_categorical(y_test_raw, num_classes)\n",
    "print(y_train[0])"
   ]
  },
  {
   "cell_type": "code",
   "execution_count": 13,
   "id": "6f6db0a9-a5bb-4b9a-89ca-2d06b2f68eab",
   "metadata": {},
   "outputs": [
    {
     "data": {
      "image/png": "[encoded data removed]",
      "text/plain": [
       "<Figure size 640x480 with 9 Axes>"
      ]
     },
     "metadata": {},
     "output_type": "display_data"
    }
   ],
   "source": [
    "plt.figure()\n",
    "for i in range(9):\n",
    "    plt.subplot(3,3,i+1)\n",
    "    plt.imshow(x_train_raw[i])\n",
    "    plt.axis('off')\n",
    "plt.show()"
   ]
  },
  {
   "cell_type": "code",
   "execution_count": 14,
   "id": "6020931e-ae88-414b-9a6f-418b392032e3",
   "metadata": {},
   "outputs": [],
   "source": [
    "x_train = x_train_raw.reshape(60000, 784)\n",
    "x_test = x_test_raw.reshape(10000, 784)"
   ]
  },
  {
   "cell_type": "code",
   "execution_count": 15,
   "id": "21ad9790-990d-44f0-9ffc-1473a7e98cf3",
   "metadata": {},
   "outputs": [],
   "source": [
    "x_train = x_train.astype('float32')/255\n",
    "x_test = x_test.astype('float32')/255"
   ]
  },
  {
   "cell_type": "code",
   "execution_count": 16,
   "id": "bf3baafd-166b-4862-a116-620ae8313147",
   "metadata": {},
   "outputs": [
    {
     "name": "stdout",
     "output_type": "stream",
     "text": [
      "Model: \"sequential_2\"\n",
      "_________________________________________________________________\n",
      " Layer (type)                Output Shape              Param #   \n",
      "=================================================================\n",
      " dense_2 (Dense)             (None, 512)               401920    \n",
      "                                                                 \n",
      " dense_3 (Dense)             (None, 256)               131328    \n",
      "                                                                 \n",
      " dense_4 (Dense)             (None, 124)               31868     \n",
      "                                                                 \n",
      " dense_5 (Dense)             (None, 128)               16000     \n",
      "                                                                 \n",
      " dense_6 (Dense)             (None, 10)                1290      \n",
      "                                                                 \n",
      "=================================================================\n",
      "Total params: 582,406\n",
      "Trainable params: 582,406\n",
      "Non-trainable params: 0\n",
      "_________________________________________________________________\n"
     ]
    }
   ],
   "source": [
    "model = tf.keras.Sequential([\n",
    "    tf.keras.layers.Dense(512, activation='relu', input_dim=784),\n",
    "    tf.keras.layers.Dense(256, activation='relu'),\n",
    "    tf.keras.layers.Dense(124, activation='relu'),\n",
    "    tf.keras.layers.Dense(128, activation='relu'),\n",
    "    tf.keras.layers.Dense(10, activation='softmax')\n",
    "])\n",
    "\n",
    "model.summary()"
   ]
  },
  {
   "cell_type": "code",
   "execution_count": 17,
   "id": "62f06e28-6654-44fe-abe9-79229bcd0a18",
   "metadata": {},
   "outputs": [],
   "source": [
    "model.compile(optimizer='adam', loss='categorical_crossentropy', metrics=['accuracy'])"
   ]
  },
  {
   "cell_type": "code",
   "execution_count": 18,
   "id": "026f5cde-2529-4d88-8e34-5e312b59ffe8",
   "metadata": {},
   "outputs": [
    {
     "name": "stdout",
     "output_type": "stream",
     "text": [
      "Epoch 1/10\n",
      "469/469 [==============================] - 4s 8ms/step - loss: 0.2401 - accuracy: 0.9289 - val_loss: 0.1112 - val_accuracy: 0.9645\n",
      "Epoch 2/10\n",
      "469/469 [==============================] - 3s 7ms/step - loss: 0.0863 - accuracy: 0.9732 - val_loss: 0.0915 - val_accuracy: 0.9713\n",
      "Epoch 3/10\n",
      "469/469 [==============================] - 3s 7ms/step - loss: 0.0582 - accuracy: 0.9818 - val_loss: 0.0742 - val_accuracy: 0.9769\n",
      "Epoch 4/10\n",
      "469/469 [==============================] - 3s 7ms/step - loss: 0.0433 - accuracy: 0.9864 - val_loss: 0.0846 - val_accuracy: 0.9738\n",
      "Epoch 5/10\n",
      "469/469 [==============================] - 3s 7ms/step - loss: 0.0343 - accuracy: 0.9885 - val_loss: 0.0798 - val_accuracy: 0.9773\n",
      "Epoch 6/10\n",
      "469/469 [==============================] - 3s 6ms/step - loss: 0.0284 - accuracy: 0.9909 - val_loss: 0.0710 - val_accuracy: 0.9810\n",
      "Epoch 7/10\n",
      "469/469 [==============================] - 3s 6ms/step - loss: 0.0269 - accuracy: 0.9916 - val_loss: 0.0683 - val_accuracy: 0.9828\n",
      "Epoch 8/10\n",
      "469/469 [==============================] - 3s 6ms/step - loss: 0.0199 - accuracy: 0.9936 - val_loss: 0.0817 - val_accuracy: 0.9800\n",
      "Epoch 9/10\n",
      "469/469 [==============================] - 4s 8ms/step - loss: 0.0214 - accuracy: 0.9932 - val_loss: 0.0740 - val_accuracy: 0.9830\n",
      "Epoch 10/10\n",
      "469/469 [==============================] - 6s 14ms/step - loss: 0.0194 - accuracy: 0.9940 - val_loss: 0.0768 - val_accuracy: 0.9811\n"
     ]
    }
   ],
   "source": [
    "history = model.fit(x_train, y_train, epochs=10, batch_size=128, validation_data=[x_test, y_test])"
   ]
  },
  {
   "cell_type": "code",
   "execution_count": 19,
   "id": "2ebceadc-a9fe-45ff-9606-81dcb1b19d5f",
   "metadata": {},
   "outputs": [
    {
     "data": {
      "image/png": "[encoded data removed]",
      "text/plain": [
       "<Figure size 640x480 with 1 Axes>"
      ]
     },
     "metadata": {},
     "output_type": "display_data"
    }
   ],
   "source": [
    "nilai_x = range(len(history.history['accuracy']))\n",
    "plt.plot(nilai_x, history.history['accuracy'], label='Training')\n",
    "plt.plot(nilai_x, history.history['val_accuracy'], label='Validation')\n",
    "plt.legend()\n",
    "plt.show()"
   ]
  },
  {
   "cell_type": "code",
   "execution_count": 20,
   "id": "d3a2348a-4256-4f55-8291-24489598aea8",
   "metadata": {},
   "outputs": [
    {
     "name": "stdout",
     "output_type": "stream",
     "text": [
      "313/313 [==============================] - 1s 2ms/step - loss: 0.0768 - accuracy: 0.9811\n"
     ]
    },
    {
     "data": {
      "text/plain": [
       "[0.07679447531700134, 0.9811000227928162]"
      ]
     },
     "execution_count": 20,
     "metadata": {},
     "output_type": "execute_result"
    }
   ],
   "source": [
    "model.evaluate(x_test, y_test)"
   ]
  },
  {
   "cell_type": "code",
   "execution_count": 21,
   "id": "30952b84-cbd2-4016-be92-9a8e332d6cef",
   "metadata": {},
   "outputs": [],
   "source": [
    "model.save('model/model.h5')"
   ]
  },
  {
   "cell_type": "code",
   "execution_count": 22,
   "id": "5915481c-2d10-4f26-a175-5971ed902f2b",
   "metadata": {},
   "outputs": [
    {
     "name": "stdout",
     "output_type": "stream",
     "text": [
      "Model: \"sequential_2\"\n",
      "_________________________________________________________________\n",
      " Layer (type)                Output Shape              Param #   \n",
      "=================================================================\n",
      " dense_2 (Dense)             (None, 512)               401920    \n",
      "                                                                 \n",
      " dense_3 (Dense)             (None, 256)               131328    \n",
      "                                                                 \n",
      " dense_4 (Dense)             (None, 124)               31868     \n",
      "                                                                 \n",
      " dense_5 (Dense)             (None, 128)               16000     \n",
      "                                                                 \n",
      " dense_6 (Dense)             (None, 10)                1290      \n",
      "                                                                 \n",
      "=================================================================\n",
      "Total params: 582,406\n",
      "Trainable params: 582,406\n",
      "Non-trainable params: 0\n",
      "_________________________________________________________________\n"
     ]
    }
   ],
   "source": [
    "model_saved = tf.keras.models.load_model('model/model.h5')\n",
    "model_saved.summary()"
   ]
  },
  {
   "cell_type": "code",
   "execution_count": 23,
   "id": "2b017d73-21c4-4dde-acb3-82e5795dfd13",
   "metadata": {},
   "outputs": [
    {
     "name": "stdout",
     "output_type": "stream",
     "text": [
      "313/313 [==============================] - 1s 2ms/step - loss: 0.0768 - accuracy: 0.9811\n"
     ]
    },
    {
     "data": {
      "text/plain": [
       "[0.07679447531700134, 0.9811000227928162]"
      ]
     },
     "execution_count": 23,
     "metadata": {},
     "output_type": "execute_result"
    }
   ],
   "source": [
    "model_saved.evaluate(x_test, y_test, batch_size=32)"
   ]
  },
  {
   "cell_type": "code",
   "execution_count": 24,
   "id": "26d137d8-dbd0-44dd-88b5-a4ea43aa73ae",
   "metadata": {},
   "outputs": [
    {
     "name": "stdout",
     "output_type": "stream",
     "text": [
      "313/313 [==============================] - 1s 2ms/step\n"
     ]
    }
   ],
   "source": [
    "hasil = model_saved.predict(x_test)"
   ]
  },
  {
   "cell_type": "code",
   "execution_count": 25,
   "id": "e5a3560e-1369-4f94-a027-bb327a69f56c",
   "metadata": {},
   "outputs": [
    {
     "data": {
      "text/plain": [
       "(60000, 784)"
      ]
     },
     "execution_count": 25,
     "metadata": {},
     "output_type": "execute_result"
    }
   ],
   "source": [
    "x_train.shape"
   ]
  },
  {
   "cell_type": "code",
   "execution_count": 26,
   "id": "c0468ad2-c8f1-40e6-9ea8-d14f1f96f449",
   "metadata": {},
   "outputs": [
    {
     "data": {
      "text/plain": [
       "array([0, 1, 2, 3, 4, 5, 6, 7, 8, 9], dtype=uint8)"
      ]
     },
     "execution_count": 26,
     "metadata": {},
     "output_type": "execute_result"
    }
   ],
   "source": [
    "np.unique(y_train_raw)"
   ]
  },
  {
   "cell_type": "code",
   "execution_count": null,
   "id": "e19c33ec-ebf3-4c08-b32b-beb8d5c25884",
   "metadata": {},
   "outputs": [],
   "source": []
  }
 ],
 "metadata": {
  "kernelspec": {
   "display_name": "Python 3 (ipykernel)",
   "language": "python",
   "name": "python3"
  },
  "language_info": {
   "codemirror_mode": {
    "name": "ipython",
    "version": 3
   },
   "file_extension": ".py",
   "mimetype": "text/x-python",
   "name": "python",
   "nbconvert_exporter": "python",
   "pygments_lexer": "ipython3",
   "version": "3.10.7"
  }
 },
 "nbformat": 4,
 "nbformat_minor": 5
}
